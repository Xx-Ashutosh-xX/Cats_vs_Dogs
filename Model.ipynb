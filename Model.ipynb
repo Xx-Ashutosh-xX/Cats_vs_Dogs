{
 "cells": [
  {
   "cell_type": "markdown",
   "metadata": {},
   "source": [
    "# Importing Libraries"
   ]
  },
  {
   "cell_type": "code",
   "execution_count": 1,
   "metadata": {},
   "outputs": [
    {
     "name": "stderr",
     "output_type": "stream",
     "text": [
      "Using TensorFlow backend.\n"
     ]
    }
   ],
   "source": [
    "import keras\n",
    "import PIL"
   ]
  },
  {
   "cell_type": "code",
   "execution_count": 2,
   "metadata": {},
   "outputs": [],
   "source": [
    "from keras.models import Sequential\n",
    "from keras.layers import Conv2D\n",
    "from keras.layers import MaxPooling2D\n",
    "from keras.layers import Flatten\n",
    "from keras.layers import Dense, Dropout\n",
    "from keras.layers import Activation, BatchNormalization"
   ]
  },
  {
   "cell_type": "markdown",
   "metadata": {},
   "source": [
    "# Initializing & Building the CNN"
   ]
  },
  {
   "cell_type": "code",
   "execution_count": 3,
   "metadata": {},
   "outputs": [],
   "source": [
    "model = Sequential()"
   ]
  },
  {
   "cell_type": "code",
   "execution_count": 4,
   "metadata": {},
   "outputs": [],
   "source": [
    "model.add(Conv2D(32, (3,3) ,input_shape=(64, 64, 3), activation='relu')) #Convolution\n",
    "model.add(BatchNormalization())\n",
    "model.add(MaxPooling2D(pool_size= (2,2))) #Pooling\n",
    "model.add(Dropout(0.25))"
   ]
  },
  {
   "cell_type": "code",
   "execution_count": 5,
   "metadata": {},
   "outputs": [],
   "source": [
    "model.add(Conv2D(32, (3, 3), activation='relu')) #Convolution\n",
    "model.add(BatchNormalization())\n",
    "model.add(MaxPooling2D(pool_size= (2,2))) #Pooling\n",
    "model.add(Dropout(0.25))"
   ]
  },
  {
   "cell_type": "code",
   "execution_count": 6,
   "metadata": {},
   "outputs": [],
   "source": [
    "model.add(Flatten())"
   ]
  },
  {
   "cell_type": "code",
   "execution_count": 7,
   "metadata": {},
   "outputs": [],
   "source": [
    "model.add(Dense(units=64, activation='relu', kernel_initializer='uniform'))\n",
    "model.add(BatchNormalization())\n",
    "model.add(Dropout(0.6))\n",
    "model.add(Dense(units=2, activation='softmax'))"
   ]
  },
  {
   "cell_type": "markdown",
   "metadata": {},
   "source": [
    "# Compiling the Model"
   ]
  },
  {
   "cell_type": "code",
   "execution_count": 8,
   "metadata": {},
   "outputs": [],
   "source": [
    "model.compile(optimizer='adam', \n",
    "              loss='categorical_crossentropy', \n",
    "              metrics=['accuracy'])"
   ]
  },
  {
   "cell_type": "code",
   "execution_count": 9,
   "metadata": {},
   "outputs": [
    {
     "name": "stdout",
     "output_type": "stream",
     "text": [
      "Model: \"sequential_1\"\n",
      "_________________________________________________________________\n",
      "Layer (type)                 Output Shape              Param #   \n",
      "=================================================================\n",
      "conv2d_1 (Conv2D)            (None, 62, 62, 32)        896       \n",
      "_________________________________________________________________\n",
      "batch_normalization_1 (Batch (None, 62, 62, 32)        128       \n",
      "_________________________________________________________________\n",
      "max_pooling2d_1 (MaxPooling2 (None, 31, 31, 32)        0         \n",
      "_________________________________________________________________\n",
      "dropout_1 (Dropout)          (None, 31, 31, 32)        0         \n",
      "_________________________________________________________________\n",
      "conv2d_2 (Conv2D)            (None, 29, 29, 32)        9248      \n",
      "_________________________________________________________________\n",
      "batch_normalization_2 (Batch (None, 29, 29, 32)        128       \n",
      "_________________________________________________________________\n",
      "max_pooling2d_2 (MaxPooling2 (None, 14, 14, 32)        0         \n",
      "_________________________________________________________________\n",
      "dropout_2 (Dropout)          (None, 14, 14, 32)        0         \n",
      "_________________________________________________________________\n",
      "flatten_1 (Flatten)          (None, 6272)              0         \n",
      "_________________________________________________________________\n",
      "dense_1 (Dense)              (None, 64)                401472    \n",
      "_________________________________________________________________\n",
      "batch_normalization_3 (Batch (None, 64)                256       \n",
      "_________________________________________________________________\n",
      "dropout_3 (Dropout)          (None, 64)                0         \n",
      "_________________________________________________________________\n",
      "dense_2 (Dense)              (None, 2)                 130       \n",
      "=================================================================\n",
      "Total params: 412,258\n",
      "Trainable params: 412,002\n",
      "Non-trainable params: 256\n",
      "_________________________________________________________________\n"
     ]
    }
   ],
   "source": [
    "model.summary()"
   ]
  },
  {
   "cell_type": "markdown",
   "metadata": {},
   "source": [
    "# Initializing EarlyStopping & Reduce-LR-On-Plateau"
   ]
  },
  {
   "cell_type": "code",
   "execution_count": 10,
   "metadata": {},
   "outputs": [],
   "source": [
    "from keras.callbacks import EarlyStopping, ReduceLROnPlateau"
   ]
  },
  {
   "cell_type": "code",
   "execution_count": 11,
   "metadata": {},
   "outputs": [],
   "source": [
    "earlystop = EarlyStopping(patience=10)\n",
    "learning_rate_reduction = ReduceLROnPlateau(monitor='val_accuracy', \n",
    "                                            patience=2, \n",
    "                                            verbose=1, \n",
    "                                            factor=0.75, \n",
    "                                            min_lr=0.00005)\n",
    "\n",
    "callbacks = [earlystop, learning_rate_reduction]"
   ]
  },
  {
   "cell_type": "markdown",
   "metadata": {},
   "source": [
    "# Fitting images in the CNN"
   ]
  },
  {
   "cell_type": "code",
   "execution_count": 12,
   "metadata": {},
   "outputs": [],
   "source": [
    "from keras.preprocessing.image import ImageDataGenerator\n",
    "\n",
    "training_datagen = ImageDataGenerator(rescale=1./255,\n",
    "                                      shear_range=0.1,\n",
    "                                      zoom_range=0.1,\n",
    "                                      horizontal_flip=True)\n",
    "\n",
    "validation_datagen = ImageDataGenerator(rescale=1./255)"
   ]
  },
  {
   "cell_type": "code",
   "execution_count": 13,
   "metadata": {},
   "outputs": [
    {
     "name": "stdout",
     "output_type": "stream",
     "text": [
      "Found 8000 images belonging to 2 classes.\n"
     ]
    }
   ],
   "source": [
    "# Training Dataset\n",
    "training_set = training_datagen.flow_from_directory('dataset/training_set/', \n",
    "                                                    target_size=(64,64),\n",
    "                                                    batch_size=32,\n",
    "                                                    class_mode='categorical')"
   ]
  },
  {
   "cell_type": "code",
   "execution_count": 14,
   "metadata": {},
   "outputs": [
    {
     "name": "stdout",
     "output_type": "stream",
     "text": [
      "Found 2000 images belonging to 2 classes.\n"
     ]
    }
   ],
   "source": [
    "# Testing Dataset\n",
    "validation_set = validation_datagen.flow_from_directory('dataset/test_set/', \n",
    "                                                target_size=(64,64), \n",
    "                                                batch_size=32, \n",
    "                                                class_mode='categorical')"
   ]
  },
  {
   "cell_type": "code",
   "execution_count": 15,
   "metadata": {},
   "outputs": [],
   "source": [
    "FAST_RUN = False\n",
    "epochs=5 if FAST_RUN else 30"
   ]
  },
  {
   "cell_type": "code",
   "execution_count": 16,
   "metadata": {},
   "outputs": [
    {
     "name": "stdout",
     "output_type": "stream",
     "text": [
      "Epoch 1/30\n",
      "250/250 [==============================] - 58s 232ms/step - loss: 0.9123 - accuracy: 0.5921 - val_loss: 0.9973 - val_accuracy: 0.5156\n",
      "Epoch 2/30\n",
      "250/250 [==============================] - 56s 223ms/step - loss: 0.6762 - accuracy: 0.6355 - val_loss: 0.7007 - val_accuracy: 0.5493\n",
      "Epoch 3/30\n",
      "250/250 [==============================] - 56s 225ms/step - loss: 0.6010 - accuracy: 0.6783 - val_loss: 0.6174 - val_accuracy: 0.6352\n",
      "Epoch 4/30\n",
      "250/250 [==============================] - 58s 231ms/step - loss: 0.5859 - accuracy: 0.6904 - val_loss: 0.5117 - val_accuracy: 0.7139\n",
      "Epoch 5/30\n",
      "250/250 [==============================] - 58s 234ms/step - loss: 0.5619 - accuracy: 0.7071 - val_loss: 0.5502 - val_accuracy: 0.7215\n",
      "Epoch 6/30\n",
      "250/250 [==============================] - 60s 239ms/step - loss: 0.5351 - accuracy: 0.7320 - val_loss: 0.4607 - val_accuracy: 0.6860\n",
      "\n",
      "Epoch 00006: ReduceLROnPlateau reducing learning rate to 0.0007500000356230885.\n",
      "Epoch 7/30\n",
      "250/250 [==============================] - 58s 233ms/step - loss: 0.5192 - accuracy: 0.7481 - val_loss: 0.5162 - val_accuracy: 0.7678\n",
      "Epoch 8/30\n",
      "250/250 [==============================] - 58s 234ms/step - loss: 0.4916 - accuracy: 0.7619 - val_loss: 0.5272 - val_accuracy: 0.7693\n",
      "Epoch 9/30\n",
      "250/250 [==============================] - 58s 234ms/step - loss: 0.4816 - accuracy: 0.7696 - val_loss: 0.6922 - val_accuracy: 0.7093\n",
      "\n",
      "Epoch 00009: ReduceLROnPlateau reducing learning rate to 0.0005625000048894435.\n",
      "Epoch 10/30\n",
      "250/250 [==============================] - 59s 234ms/step - loss: 0.4679 - accuracy: 0.7782 - val_loss: 0.5028 - val_accuracy: 0.7327\n",
      "\n",
      "Epoch 00010: ReduceLROnPlateau reducing learning rate to 0.0004218749818392098.\n",
      "Epoch 11/30\n",
      "250/250 [==============================] - 58s 234ms/step - loss: 0.4558 - accuracy: 0.7844 - val_loss: 0.8619 - val_accuracy: 0.7439\n",
      "\n",
      "Epoch 00011: ReduceLROnPlateau reducing learning rate to 0.00031640623637940735.\n",
      "Epoch 12/30\n",
      "250/250 [==============================] - 58s 234ms/step - loss: 0.4515 - accuracy: 0.7834 - val_loss: 0.4083 - val_accuracy: 0.7983\n",
      "Epoch 13/30\n",
      "250/250 [==============================] - 59s 235ms/step - loss: 0.4420 - accuracy: 0.7934 - val_loss: 0.4627 - val_accuracy: 0.8059\n",
      "Epoch 14/30\n",
      "250/250 [==============================] - 58s 234ms/step - loss: 0.4335 - accuracy: 0.7989 - val_loss: 0.5029 - val_accuracy: 0.7785\n",
      "\n",
      "Epoch 00014: ReduceLROnPlateau reducing learning rate to 0.00023730468819849193.\n",
      "Epoch 15/30\n",
      "250/250 [==============================] - 58s 233ms/step - loss: 0.4282 - accuracy: 0.8015 - val_loss: 0.3206 - val_accuracy: 0.7830\n",
      "\n",
      "Epoch 00015: ReduceLROnPlateau reducing learning rate to 0.00017797851614886895.\n",
      "Epoch 16/30\n",
      "250/250 [==============================] - 58s 234ms/step - loss: 0.4306 - accuracy: 0.7966 - val_loss: 0.3690 - val_accuracy: 0.7952\n",
      "\n",
      "Epoch 00016: ReduceLROnPlateau reducing learning rate to 0.0001334838816546835.\n",
      "Epoch 17/30\n",
      "250/250 [==============================] - 58s 233ms/step - loss: 0.4133 - accuracy: 0.8105 - val_loss: 0.4102 - val_accuracy: 0.8064\n",
      "Epoch 18/30\n",
      "250/250 [==============================] - 59s 234ms/step - loss: 0.4132 - accuracy: 0.8090 - val_loss: 0.5392 - val_accuracy: 0.8028\n",
      "\n",
      "Epoch 00018: ReduceLROnPlateau reducing learning rate to 0.00010011290578404441.\n",
      "Epoch 19/30\n",
      "250/250 [==============================] - 58s 234ms/step - loss: 0.4055 - accuracy: 0.8201 - val_loss: 0.5573 - val_accuracy: 0.8064\n",
      "\n",
      "Epoch 00019: ReduceLROnPlateau reducing learning rate to 7.508467933803331e-05.\n",
      "Epoch 20/30\n",
      "250/250 [==============================] - 59s 234ms/step - loss: 0.4100 - accuracy: 0.8091 - val_loss: 0.4586 - val_accuracy: 0.8079\n",
      "Epoch 21/30\n",
      "250/250 [==============================] - 58s 234ms/step - loss: 0.3975 - accuracy: 0.8217 - val_loss: 0.3291 - val_accuracy: 0.8115\n",
      "Epoch 22/30\n",
      "250/250 [==============================] - 61s 243ms/step - loss: 0.3984 - accuracy: 0.8214 - val_loss: 0.3406 - val_accuracy: 0.8049\n",
      "\n",
      "Epoch 00022: ReduceLROnPlateau reducing learning rate to 5.6313510867767036e-05.\n",
      "Epoch 23/30\n",
      "250/250 [==============================] - 59s 235ms/step - loss: 0.3937 - accuracy: 0.8230 - val_loss: 0.4025 - val_accuracy: 0.8095\n",
      "\n",
      "Epoch 00023: ReduceLROnPlateau reducing learning rate to 5e-05.\n",
      "Epoch 24/30\n",
      "250/250 [==============================] - 58s 234ms/step - loss: 0.4034 - accuracy: 0.8136 - val_loss: 0.3082 - val_accuracy: 0.8095\n",
      "Epoch 25/30\n",
      "250/250 [==============================] - 58s 234ms/step - loss: 0.3878 - accuracy: 0.8251 - val_loss: 0.3146 - val_accuracy: 0.8191\n",
      "Epoch 26/30\n",
      "250/250 [==============================] - 58s 234ms/step - loss: 0.3889 - accuracy: 0.8207 - val_loss: 0.3470 - val_accuracy: 0.8044\n",
      "Epoch 27/30\n",
      "250/250 [==============================] - 59s 234ms/step - loss: 0.3910 - accuracy: 0.8219 - val_loss: 0.4756 - val_accuracy: 0.8120\n",
      "Epoch 28/30\n",
      "250/250 [==============================] - 58s 234ms/step - loss: 0.3946 - accuracy: 0.8194 - val_loss: 0.3858 - val_accuracy: 0.8201\n",
      "Epoch 29/30\n",
      "250/250 [==============================] - 60s 239ms/step - loss: 0.3936 - accuracy: 0.8254 - val_loss: 0.2630 - val_accuracy: 0.8069\n",
      "Epoch 30/30\n",
      "250/250 [==============================] - 58s 233ms/step - loss: 0.3841 - accuracy: 0.8256 - val_loss: 0.4128 - val_accuracy: 0.8211\n"
     ]
    }
   ],
   "source": [
    "history = model.fit_generator(training_set, \n",
    "                              steps_per_epoch=8000//32, \n",
    "                              epochs=epochs,\n",
    "                              validation_data=validation_set, \n",
    "                              validation_steps=2000//32,\n",
    "                              callbacks=callbacks)"
   ]
  },
  {
   "cell_type": "code",
   "execution_count": 17,
   "metadata": {},
   "outputs": [
    {
     "data": {
      "text/plain": [
       "dict_keys(['val_loss', 'val_accuracy', 'loss', 'accuracy', 'lr'])"
      ]
     },
     "execution_count": 17,
     "metadata": {},
     "output_type": "execute_result"
    }
   ],
   "source": [
    "history.history.keys()"
   ]
  },
  {
   "cell_type": "code",
   "execution_count": 18,
   "metadata": {},
   "outputs": [
    {
     "data": {
      "image/png": "[encoded data removed]",
      "text/plain": [
       "<Figure size 720x720 with 2 Axes>"
      ]
     },
     "metadata": {
      "needs_background": "light"
     },
     "output_type": "display_data"
    }
   ],
   "source": [
    "import matplotlib.pyplot as plt\n",
    "\n",
    "accuracy = history.history['accuracy']\n",
    "val_accuracy = history.history['val_accuracy']\n",
    "loss = history.history['loss']\n",
    "val_loss = history.history['val_loss']\n",
    "\n",
    "fig = plt.figure(figsize=(10,10),edgecolor='Black') \n",
    "ax1 = fig.add_subplot(2,1,1)\n",
    "ax2 = fig.add_subplot(2,1,2)\n",
    "\n",
    "ax1.plot(accuracy, label='Training Accuracy', color='Blue')\n",
    "ax1.plot(val_accuracy, label='Validation Accuracy', color='Red')\n",
    "ax1.set_title(\"Training and Validation accuracy\", fontsize=20)\n",
    "ax1.set_ylabel(\"Accuracy\", fontsize=15)\n",
    "ax1.legend()\n",
    "\n",
    "ax2.plot(loss, label='Training Loss', color='Blue')\n",
    "ax2.plot(val_loss, label='Validation Loss', color='Red')\n",
    "ax2.set_title(\"Training and validation loss\", fontsize=20)\n",
    "ax2.set_ylabel(\"Loss\", fontsize=15)\n",
    "ax2.legend()\n",
    "\n",
    "plt.show()"
   ]
  },
  {
   "cell_type": "code",
   "execution_count": 19,
   "metadata": {},
   "outputs": [
    {
     "name": "stdout",
     "output_type": "stream",
     "text": [
      "Accuracy Score: 83.0\n"
     ]
    }
   ],
   "source": [
    "print(\"Accuracy Score:\" , round(accuracy[-1]*100))"
   ]
  },
  {
   "cell_type": "code",
   "execution_count": 21,
   "metadata": {},
   "outputs": [],
   "source": [
    "model.save('MODEL')"
   ]
  }
 ],
 "metadata": {
  "kernelspec": {
   "display_name": "Python 3",
   "language": "python",
   "name": "python3"
  },
  "language_info": {
   "codemirror_mode": {
    "name": "ipython",
    "version": 3
   },
   "file_extension": ".py",
   "mimetype": "text/x-python",
   "name": "python",
   "nbconvert_exporter": "python",
   "pygments_lexer": "ipython3",
   "version": "3.7.6"
  }
 },
 "nbformat": 4,
 "nbformat_minor": 4
}
